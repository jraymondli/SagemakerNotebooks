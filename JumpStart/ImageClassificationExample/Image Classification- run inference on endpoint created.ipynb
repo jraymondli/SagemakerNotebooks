{
 "cells": [
  {
   "cell_type": "markdown",
   "id": "3e420b3e",
   "metadata": {},
   "source": [
    "# Image Classification: run inference on endpoint created"
   ]
  },
  {
   "cell_type": "markdown",
   "id": "cb176778",
   "metadata": {},
   "source": [
    "## Download example images"
   ]
  },
  {
   "cell_type": "code",
   "execution_count": 1,
   "id": "e379eb2b",
   "metadata": {},
   "outputs": [
    {
     "data": {
      "text/html": [
       "<table><tr><td> <img src=\"cat.jpg\" alt=\"cat\" style=\"height: 250px;\"/> <figcaption>cat.jpg</figcaption></td><td> <img src=\"dog.jpg\" alt=\"dog\" style=\"height: 250px;\"/> <figcaption>dog.jpg</figcaption></td></tr></table>"
      ],
      "text/plain": [
       "<IPython.core.display.HTML object>"
      ]
     },
     "execution_count": 1,
     "metadata": {},
     "output_type": "execute_result"
    }
   ],
   "source": [
    "import boto3\n",
    "from IPython.core.display import HTML\n",
    "\n",
    "region = boto3.Session().region_name\n",
    "s3_bucket = f\"jumpstart-cache-prod-{region}\"\n",
    "key_prefix = \"inference-notebook-assets\"\n",
    "s3 = boto3.client(\"s3\")\n",
    "\n",
    "def download_from_s3(key_filenames):\n",
    "    for key_filename in key_filenames:\n",
    "        s3.download_file(s3_bucket, f\"{key_prefix}/{key_filename}\", key_filename)\n",
    "\n",
    "cat_jpg, dog_jpg = \"cat.jpg\", \"dog.jpg\"\n",
    "download_from_s3(key_filenames=[cat_jpg, dog_jpg])\n",
    "\n",
    "HTML('<table><tr><td> <img src=\"cat.jpg\" alt=\"cat\" style=\"height: 250px;\"/> <figcaption>cat.jpg</figcaption>'\n",
    "     '</td><td> <img src=\"dog.jpg\" alt=\"dog\" style=\"height: 250px;\"/> <figcaption>dog.jpg</figcaption>'\n",
    "     '</td></tr></table>')"
   ]
  },
  {
   "cell_type": "markdown",
   "id": "39fef820",
   "metadata": {},
   "source": [
    "## Open the downloaded images and load in memory. \n",
    "\n",
    "You can upload any image from your local computer in the directory and open them here."
   ]
  },
  {
   "cell_type": "code",
   "execution_count": 3,
   "id": "279fef78",
   "metadata": {},
   "outputs": [],
   "source": [
    "images = {}\n",
    "with open(cat_jpg, 'rb') as file: images[cat_jpg] = file.read()\n",
    "with open(dog_jpg, 'rb') as file: images[dog_jpg] = file.read()\n",
    "with open(\"cat2.png\", 'rb') as file: images[\"cat2.png\"] = file.read()\n"
   ]
  },
  {
   "cell_type": "markdown",
   "id": "73fcc315",
   "metadata": {},
   "source": [
    "## Query endpoint that you have created with the opened images and parse predictions\n",
    "\n",
    "Note: Backend scripts and the notebooks have been updated in Jan '22. This notebook will not work with the previously launched endpoints. If experiencing an error, please launch the endpoint again."
   ]
  },
  {
   "cell_type": "code",
   "execution_count": 6,
   "id": "f5064691",
   "metadata": {},
   "outputs": [
    {
     "data": {
      "text/html": [
       "<img src=cat.jpg alt=cat.jpg align=\"left\" style=\"width: 250px;\"/><figcaption>Predicted Label is : Egyptian cat</figcaption>"
      ],
      "text/plain": [
       "<IPython.core.display.HTML object>"
      ]
     },
     "metadata": {},
     "output_type": "display_data"
    },
    {
     "data": {
      "text/html": [
       "<img src=dog.jpg alt=dog.jpg align=\"left\" style=\"width: 250px;\"/><figcaption>Predicted Label is : bull mastiff</figcaption>"
      ],
      "text/plain": [
       "<IPython.core.display.HTML object>"
      ]
     },
     "metadata": {},
     "output_type": "display_data"
    },
    {
     "data": {
      "text/html": [
       "<img src=cat2.png alt=cat2.png align=\"left\" style=\"width: 250px;\"/><figcaption>Predicted Label is : tiger cat</figcaption>"
      ],
      "text/plain": [
       "<IPython.core.display.HTML object>"
      ]
     },
     "metadata": {},
     "output_type": "display_data"
    }
   ],
   "source": [
    "import json\n",
    "\n",
    "def query_endpoint(img):\n",
    "    endpoint_name = 'jumpstart-dft-tf-ic-imagenet-mobilenet-v2-100-224-clas'\n",
    "    client = boto3.client('runtime.sagemaker')\n",
    "    response = client.invoke_endpoint(EndpointName=endpoint_name, ContentType='application/x-image', \n",
    "                                      Body=img, Accept='application/json;verbose')\n",
    "    return response\n",
    "    \n",
    "\n",
    "def parse_prediction(query_response):\n",
    "    model_predictions = json.loads(query_response['Body'].read())\n",
    "    predicted_label = model_predictions['predicted_label']\n",
    "    labels = model_predictions['labels']\n",
    "    probabilities = model_predictions['probabilities']\n",
    "    return predicted_label, probabilities, labels \n",
    "\n",
    "for filename, img in images.items():\n",
    "    query_response = query_endpoint(img)\n",
    "    predicted_label, probabilities, labels = parse_prediction(query_response)\n",
    "    display(HTML(f'<img src={filename} alt={filename} align=\"left\" style=\"width: 250px;\"/>' \n",
    "                 f'<figcaption>Predicted Label is : {predicted_label}</figcaption>'\n",
    "                ))"
   ]
  },
  {
   "cell_type": "code",
   "execution_count": null,
   "id": "ff56d5a0",
   "metadata": {},
   "outputs": [],
   "source": []
  }
 ],
 "metadata": {
  "kernelspec": {
   "display_name": "conda_pytorch_p38",
   "language": "python",
   "name": "conda_pytorch_p38"
  },
  "language_info": {
   "codemirror_mode": {
    "name": "ipython",
    "version": 3
   },
   "file_extension": ".py",
   "mimetype": "text/x-python",
   "name": "python",
   "nbconvert_exporter": "python",
   "pygments_lexer": "ipython3",
   "version": "3.8.12"
  }
 },
 "nbformat": 4,
 "nbformat_minor": 5
}
