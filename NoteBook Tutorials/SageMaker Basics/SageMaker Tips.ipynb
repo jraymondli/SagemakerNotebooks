{
 "cells": [
  {
   "cell_type": "markdown",
   "id": "a77a8e10",
   "metadata": {},
   "source": [
    "## An Example on describe_domain"
   ]
  },
  {
   "cell_type": "code",
   "execution_count": 3,
   "id": "13ed7337",
   "metadata": {},
   "outputs": [],
   "source": [
    "import sagemaker\n",
    "from sagemaker import get_execution_role\n",
    "\n",
    "import boto3\n",
    "\n",
    "sess = boto3.Session()\n",
    "sm = sess.client(\"sagemaker\")\n",
    "role = sagemaker.get_execution_role()\n",
    "\n"
   ]
  },
  {
   "cell_type": "code",
   "execution_count": 4,
   "id": "da869b87",
   "metadata": {},
   "outputs": [
    {
     "data": {
      "text/plain": [
       "{'DomainArn': 'arn:aws:sagemaker:us-east-1:758804519739:domain/d-eb6oskulujrg',\n",
       " 'DomainId': 'd-eb6oskulujrg',\n",
       " 'DomainName': 'default-1663557247955',\n",
       " 'HomeEfsFileSystemId': 'fs-0614acf8ce69ef913',\n",
       " 'Status': 'InService',\n",
       " 'CreationTime': datetime.datetime(2022, 9, 19, 3, 14, 9, 930000, tzinfo=tzlocal()),\n",
       " 'LastModifiedTime': datetime.datetime(2022, 9, 19, 3, 24, 18, 625000, tzinfo=tzlocal()),\n",
       " 'AuthMode': 'IAM',\n",
       " 'DefaultUserSettings': {'ExecutionRole': 'arn:aws:iam::758804519739:role/service-role/AmazonSageMaker-ExecutionRole-20220909T051136',\n",
       "  'SharingSettings': {'NotebookOutputOption': 'Allowed',\n",
       "   'S3OutputPath': 's3://sagemaker-studio-758804519739-kzqmrz5rh6/sharing'},\n",
       "  'JupyterServerAppSettings': {'DefaultResourceSpec': {'SageMakerImageArn': 'arn:aws:sagemaker:us-east-1:081325390199:image/jupyter-server',\n",
       "    'InstanceType': 'system'}}},\n",
       " 'AppNetworkAccessType': 'PublicInternetOnly',\n",
       " 'SubnetIds': ['subnet-589b6714',\n",
       "  'subnet-34133815',\n",
       "  'subnet-bf6448d9',\n",
       "  'subnet-8795bbd8',\n",
       "  'subnet-5a0e7e6b',\n",
       "  'subnet-ebb056ea'],\n",
       " 'Url': 'https://d-eb6oskulujrg.studio.us-east-1.sagemaker.aws',\n",
       " 'VpcId': 'vpc-21b5cc5c',\n",
       " 'ResponseMetadata': {'RequestId': 'c244d60e-6713-474d-ae82-e9c013a3faaf',\n",
       "  'HTTPStatusCode': 200,\n",
       "  'HTTPHeaders': {'x-amzn-requestid': 'c244d60e-6713-474d-ae82-e9c013a3faaf',\n",
       "   'content-type': 'application/x-amz-json-1.1',\n",
       "   'content-length': '1082',\n",
       "   'date': 'Mon, 19 Sep 2022 20:21:48 GMT'},\n",
       "  'RetryAttempts': 0}}"
      ]
     },
     "execution_count": 4,
     "metadata": {},
     "output_type": "execute_result"
    }
   ],
   "source": [
    "sm.describe_domain(DomainId=\"d-eb6oskulujrg\")"
   ]
  },
  {
   "cell_type": "code",
   "execution_count": 7,
   "id": "0ea6aa81",
   "metadata": {},
   "outputs": [
    {
     "name": "stdout",
     "output_type": "stream",
     "text": [
      "sagemaker-us-east-1-758804519739\n"
     ]
    }
   ],
   "source": [
    "bucket = sagemaker.Session().default_bucket()\n",
    "print(bucket)"
   ]
  },
  {
   "cell_type": "code",
   "execution_count": null,
   "id": "d4401b7a",
   "metadata": {},
   "outputs": [],
   "source": []
  }
 ],
 "metadata": {
  "kernelspec": {
   "display_name": "conda_pytorch_p38",
   "language": "python",
   "name": "conda_pytorch_p38"
  },
  "language_info": {
   "codemirror_mode": {
    "name": "ipython",
    "version": 3
   },
   "file_extension": ".py",
   "mimetype": "text/x-python",
   "name": "python",
   "nbconvert_exporter": "python",
   "pygments_lexer": "ipython3",
   "version": "3.8.12"
  }
 },
 "nbformat": 4,
 "nbformat_minor": 5
}
